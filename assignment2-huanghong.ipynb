{
 "cells": [
  {
   "cell_type": "code",
   "execution_count": 29,
   "metadata": {},
   "outputs": [
    {
     "data": {
      "text/plain": [
       "[True, False, True, True, False]"
      ]
     },
     "execution_count": 29,
     "metadata": {},
     "output_type": "execute_result"
    }
   ],
   "source": [
    "dic={'(':')','[':']','{':'}'}\n",
    "def main(strr):\n",
    "    list=[]\n",
    "    for i in range(len(strr)):\n",
    "        if strr[i] in '([{':\n",
    "            list.append(strr[i])\n",
    "        if strr[i] in ')]}':\n",
    "            if list==[]:\n",
    "                return False\n",
    "            else:\n",
    "                e=list.pop()\n",
    "                if strr[i]!=dic[e]:\n",
    "                    return False\n",
    "    if list!=[]:\n",
    "        return False\n",
    "    else:\n",
    "        return True\n",
    "def checkOrders(orders):\n",
    "    list=[]\n",
    "    for i in range(len(orders)):\n",
    "        list.append(main(orders[i]))\n",
    "    return list\n",
    "checkOrders([\"()\",\"(\",\"{}[]\",\"[][][]\",\"[{]{]\"])"
   ]
  },
  {
   "cell_type": "code",
   "execution_count": null,
   "metadata": {},
   "outputs": [],
   "source": []
  }
 ],
 "metadata": {
  "kernelspec": {
   "display_name": "Python 3",
   "language": "python",
   "name": "python3"
  },
  "language_info": {
   "codemirror_mode": {
    "name": "ipython",
    "version": 3
   },
   "file_extension": ".py",
   "mimetype": "text/x-python",
   "name": "python",
   "nbconvert_exporter": "python",
   "pygments_lexer": "ipython3",
   "version": "3.6.8"
  }
 },
 "nbformat": 4,
 "nbformat_minor": 2
}
